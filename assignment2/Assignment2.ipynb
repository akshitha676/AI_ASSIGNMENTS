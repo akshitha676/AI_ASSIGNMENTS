{
 "cells": [
  {
   "cell_type": "code",
   "execution_count": 3,
   "metadata": {
    "id": "xk_QojyJpp0j"
   },
   "outputs": [],
   "source": [
    "\n",
    "class State:\n",
    "    def __init__(self, x, y, grid, goal):\n",
    "        self.x = x\n",
    "        self.y = y\n",
    "        self.grid = grid\n",
    "        self.goal = goal\n",
    "\n",
    "    def goalTest(self):\n",
    "        return (self.x, self.y) == self.goal\n",
    "\n",
    "    def moveGen(self):\n",
    "        n = len(self.grid)\n",
    "        moves = [(-1,-1), (-1,0), (-1,1),\n",
    "                 (0,-1),         (0,1),\n",
    "                 (1,-1),  (1,0), (1,1)]\n",
    "        children = []\n",
    "        for dx, dy in moves:\n",
    "            nx, ny = self.x + dx, self.y + dy\n",
    "            if 0 <= nx < n and 0 <= ny < n and self.grid[nx][ny] == 0:\n",
    "                children.append(State(nx, ny, self.grid, self.goal))\n",
    "        return children\n",
    "\n",
    "    def __eq__(self, other):\n",
    "        return (self.x, self.y) == (other.x, other.y)\n",
    "\n",
    "    def __hash__(self):\n",
    "        return hash((self.x, self.y))\n",
    "\n",
    "    def __str__(self):\n",
    "        return f\"({self.x},{self.y})\"\n",
    "\n",
    "\n",
    "    def h(self):\n",
    "        return abs(self.x - self.goal[0]) + abs(self.y - self.goal[1])\n",
    "\n",
    "    def k_step_cost(self, other):\n",
    "        return 1\n",
    "\n",
    "\n",
    "\n",
    "def get_min_h(OPEN):\n",
    "    best = OPEN[0]\n",
    "    for node, path in OPEN:\n",
    "        if node.h() < best[0].h():\n",
    "            best = (node, path)\n",
    "    return best\n",
    "\n",
    "def get_min_f(OPEN, f):\n",
    "    best = OPEN[0]\n",
    "    for node in OPEN:\n",
    "        if f[node] < f[best]:\n",
    "            best = node\n",
    "    return best\n",
    "\n",
    "\n",
    "\n",
    "def best_first_search(start):\n",
    "    if start.grid[0][0] == 1 or start.grid[-1][-1] == 1:\n",
    "        return -1, []\n",
    "\n",
    "    OPEN = [(start, [start])]\n",
    "    visited = set()\n",
    "\n",
    "    while OPEN:\n",
    "        N, path = get_min_h(OPEN)\n",
    "        OPEN.remove((N, path))\n",
    "\n",
    "        if N in visited:\n",
    "            continue\n",
    "        visited.add(N)\n",
    "\n",
    "        if N.goalTest():\n",
    "            return len(path), [(s.x, s.y) for s in path]\n",
    "\n",
    "        for M in N.moveGen():\n",
    "            if M not in visited:\n",
    "                OPEN.append((M, path + [M]))\n",
    "\n",
    "    return -1, []\n",
    "\n",
    "\n",
    "\n",
    "def a_star(start):\n",
    "    if start.grid[0][0] == 1 or start.grid[-1][-1] == 1:\n",
    "        return -1, []\n",
    "\n",
    "    parent = {}\n",
    "    g = {}\n",
    "    f = {}\n",
    "\n",
    "    OPEN = [start]\n",
    "    CLOSED = set()\n",
    "\n",
    "    parent[start] = None\n",
    "    g[start] = 0\n",
    "    f[start] = g[start] + start.h()\n",
    "\n",
    "    while OPEN:\n",
    "        N = get_min_f(OPEN, f)\n",
    "        OPEN.remove(N)\n",
    "\n",
    "        if N.goalTest():\n",
    "\n",
    "            path = []\n",
    "            while N:\n",
    "                path.append(N)\n",
    "                N = parent[N]\n",
    "            path.reverse()\n",
    "            return len(path), [(s.x, s.y) for s in path]\n",
    "\n",
    "        CLOSED.add(N)\n",
    "\n",
    "        for M in N.moveGen():\n",
    "            if g[N] + N.k_step_cost(M) < g.get(M, float('inf')):\n",
    "                parent[M] = N\n",
    "                g[M] = g[N] + N.k_step_cost(M)\n",
    "                f[M] = g[M] + M.h()\n",
    "\n",
    "                if M not in CLOSED and M not in OPEN:\n",
    "                    OPEN.append(M)\n",
    "\n",
    "    return -1, []\n"
   ]
  },
  {
   "cell_type": "code",
   "execution_count": 4,
   "metadata": {
    "colab": {
     "base_uri": "https://localhost:8080/"
    },
    "id": "xhpdPIIep6mC",
    "outputId": "ee857810-7884-42b2-aa3a-6fd34e2c808c"
   },
   "outputs": [
    {
     "name": "stdout",
     "output_type": "stream",
     "text": [
      "Example 1:\n",
      "Best First Search → Path length: 2, Path: [(0, 0), (1, 1)]\n",
      "A* Search → Path length: 2, Path: [(0, 0), (1, 1)]\n"
     ]
    }
   ],
   "source": [
    "grid = [[0, 1],\n",
    "        [1, 0]]\n",
    "n = len(grid)\n",
    "start_state = State(0, 0, grid, (n-1, n-1))\n",
    "\n",
    "bfs_len, bfs_path = best_first_search(start_state)\n",
    "astar_len, astar_path = a_star(start_state)\n",
    "\n",
    "print(\"Example 1:\")\n",
    "print(\"Best First Search ->\", f\"Path length: {bfs_len}, Path: {bfs_path}\")\n",
    "print(\"A* Search ->\", f\"Path length: {astar_len}, Path: {astar_path}\")\n",
    "\n"
   ]
  },
  {
   "cell_type": "code",
   "execution_count": 5,
   "metadata": {
    "colab": {
     "base_uri": "https://localhost:8080/"
    },
    "id": "6T3D624HrRxq",
    "outputId": "889445f7-1854-47c0-dcb4-6889a87bb9d5"
   },
   "outputs": [
    {
     "name": "stdout",
     "output_type": "stream",
     "text": [
      "Example 2:\n",
      "Best First Search → Path length: 4, Path: [(0, 0), (0, 1), (1, 2), (2, 2)]\n",
      "A* Search → Path length: 4, Path: [(0, 0), (0, 1), (1, 2), (2, 2)]\n"
     ]
    }
   ],
   "source": [
    "grid = [[0, 0, 0],\n",
    "        [1, 1, 0],\n",
    "        [1, 1, 0]]\n",
    "n = len(grid)\n",
    "start_state = State(0, 0, grid, (n-1, n-1))\n",
    "\n",
    "bfs_len, bfs_path = best_first_search(start_state)\n",
    "astar_len, astar_path = a_star(start_state)\n",
    "\n",
    "print(\"Example 2:\")\n",
    "print(\"Best First Search ->\", f\"Path length: {bfs_len}, Path: {bfs_path}\")\n",
    "print(\"A* Search ->\", f\"Path length: {astar_len}, Path: {astar_path}\")\n"
   ]
  },
  {
   "cell_type": "code",
   "execution_count": 6,
   "metadata": {
    "colab": {
     "base_uri": "https://localhost:8080/"
    },
    "id": "iy9nn1qnrYqh",
    "outputId": "23455465-2b0a-43a7-cc99-76aec88370fd"
   },
   "outputs": [
    {
     "name": "stdout",
     "output_type": "stream",
     "text": [
      "Example 3:\n",
      "Best First Search → Path length: -1, Path: []\n",
      "A* Search → Path length: -1, Path: []\n"
     ]
    }
   ],
   "source": [
    "grid = [[1, 0, 0],\n",
    "        [1, 1, 0],\n",
    "        [1, 1, 0]]\n",
    "n = len(grid)\n",
    "start_state = State(0, 0, grid, (n-1, n-1))\n",
    "\n",
    "bfs_len, bfs_path = best_first_search(start_state)\n",
    "astar_len, astar_path = a_star(start_state)\n",
    "\n",
    "print(\"Example 3:\")\n",
    "print(\"Best First Search ->\", f\"Path length: {bfs_len}, Path: {bfs_path}\")\n",
    "print(\"A* Search ->\", f\"Path length: {astar_len}, Path: {astar_path}\")\n"
   ]
  },
  {
   "cell_type": "code",
   "execution_count": null,
   "metadata": {
    "id": "ezGCkj9Pr5dp"
   },
   "outputs": [],
   "source": [
    "## comparision of Best First Search and A* Search ##\n",
    "\n",
    "\n",
    "Both Best First Search and A* Search successfully found a valid path from the start to the goal in the test case.\n",
    "\n",
    "Best First Search is purely heuristic-driven; it selects the next node based on the estimated distance to the goal\n",
    "(h(n)). It can be faster in terms of exploring fewer nodes but may fail to find the shortest path if the heuristic\n",
    "is misleading.\n",
    "\n",
    "A* Search combines the actual cost so far (g(n)) with the heuristic (h(n)) to select the next node. This ensures\n",
    "that the path found is optimal (shortest path), as long as the heuristic is admissible.\n",
    "\n",
    "Observation: In this small example, both algorithms produced the same path and path length.\n",
    "In larger or more complex grids, A* typically performs better for optimality, while Best First Search\n",
    "may expand fewer nodes but risk non-optimal paths."
   ]
  }
 ],
 "metadata": {
  "colab": {
   "provenance": []
  },
  "kernelspec": {
   "display_name": "Python 3 (ipykernel)",
   "language": "python",
   "name": "python3"
  },
  "language_info": {
   "codemirror_mode": {
    "name": "ipython",
    "version": 3
   },
   "file_extension": ".py",
   "mimetype": "text/x-python",
   "name": "python",
   "nbconvert_exporter": "python",
   "pygments_lexer": "ipython3",
   "version": "3.10.12"
  }
 },
 "nbformat": 4,
 "nbformat_minor": 1
}
